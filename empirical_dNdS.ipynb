{
 "cells": [
  {
   "cell_type": "code",
   "execution_count": null,
   "metadata": {},
   "outputs": [],
   "source": [
    "import pandas as pd\n",
    "import numpy as np\n",
    "import numpy.random as nrand\n",
    "import matplotlib.pyplot as plt"
   ]
  },
  {
   "cell_type": "code",
   "execution_count": null,
   "metadata": {},
   "outputs": [],
   "source": [
    "df  = pd.read_csv('All_mutations_four_env_SNF6_two_replicates-fitness.csv')\n",
    "df['Geometric-mean'] = np.exp(np.log(df.iloc[:,3:7]).mean(axis=1))"
   ]
  },
  {
   "cell_type": "code",
   "execution_count": null,
   "metadata": {
    "scrolled": false
   },
   "outputs": [],
   "source": [
    "legend_label = {'YPD-fitness':'YPD','H2O2-fitness':'YPD+$\\mathregular{H_2O_2}$',\n",
    "                'SC-fitness':'SC+37°C',\"YPE-fitness\":'YPE','Lowest':'Rotating among the above conditions'}\n",
    "fig,ax = plt.subplots(figsize=[5,5])\n",
    "for i,gene in enumerate(['All_mutations_four_env_SNF6_two_replicates']):\n",
    "    df = pd.read_csv(f'{gene}-fitness.csv')\n",
    "    df['Geometric-mean'] = np.exp(np.log(df.iloc[:,3:7]).mean(axis=1))\n",
    "    df['Lowest'] = df.iloc[:,3:7].min(axis=1)\n",
    "    for env in ['YPD-fitness','SC-fitness','H2O2-fitness',\"YPE-fitness\",'Lowest']:\n",
    "        dNdS_list = []\n",
    "        for cutoff in np.linspace(0.95,0.99,26):\n",
    "            dN = np.sum((df[env] > cutoff) & (df['Mutation-type'] == 'Nonsynonymous_mutation')) \\\n",
    "                /np.sum(df['Mutation-type'] == 'Nonsynonymous_mutation')\n",
    "            dS = np.sum((df[env] > cutoff) & (df['Mutation-type'] == 'Synonymous_mutation')) \\\n",
    "                /np.sum(df['Mutation-type'] == 'Synonymous_mutation')\n",
    "            dNdS_list.append(dN/dS)\n",
    "        ax.set_xlim(0.98,0.99)\n",
    "        ax.set_ylim(0.6,1)\n",
    "        ax.set_ylabel('Expected dN/dS',size=13)\n",
    "        ax.set_xlabel('Fitness cutoff',size=13)\n",
    "        ax.plot(np.linspace(0.95,1,26),dNdS_list,'o-',ms=2,label=legend_label[env])\n",
    "        legend = ax.legend(title=\"Environments:\",title_fontsize = 'medium',edgecolor='white')\n",
    "        legend._legend_box.align = \"left\"\n",
    "#plt.savefig('empirical_dNdS.pdf')"
   ]
  }
 ],
 "metadata": {
  "kernelspec": {
   "display_name": "Python 3",
   "language": "python",
   "name": "python3"
  },
  "language_info": {
   "codemirror_mode": {
    "name": "ipython",
    "version": 3
   },
   "file_extension": ".py",
   "mimetype": "text/x-python",
   "name": "python",
   "nbconvert_exporter": "python",
   "pygments_lexer": "ipython3",
   "version": "3.7.7"
  }
 },
 "nbformat": 4,
 "nbformat_minor": 2
}
