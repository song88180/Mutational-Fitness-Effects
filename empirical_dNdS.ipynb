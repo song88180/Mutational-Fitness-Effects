{
 "cells": [
  {
   "cell_type": "code",
   "execution_count": 1,
   "metadata": {},
   "outputs": [],
   "source": [
    "import pandas as pd\n",
    "import numpy as np\n",
    "import numpy.random as nrand\n",
    "import matplotlib.pyplot as plt\n",
    "from matplotlib.ticker import (MultipleLocator, AutoMinorLocator)"
   ]
  },
  {
   "cell_type": "code",
   "execution_count": 3,
   "metadata": {},
   "outputs": [],
   "source": [
    "# Load and combine data\n",
    "Gene_list = ['ADA2','PRS3','ASC1','RAD6','BFR1','RPL29', \\\n",
    "            'BUD23','RPL39','CCW12','RPS7A','EOS1','SNF6','GET1','TSR2','GIM5','VMA21','IES6','VMA7','LSM1']\n",
    "df_rep = pd.DataFrame()\n",
    "for Gene in Gene_list:\n",
    "    df_gene = pd.read_csv(f'../All_fitness_values_of_genes/{Gene}_all_fitness_values.txt', \n",
    "                     delim_whitespace=True)\n",
    "    df_gene['Gene'] = Gene\n",
    "    df_rep = pd.concat([df_rep,df_gene],ignore_index=True)\n",
    "df_rep = df_rep[df_rep['Mutation_type'] != 'Nonsense_mutation']"
   ]
  },
  {
   "cell_type": "code",
   "execution_count": 4,
   "metadata": {},
   "outputs": [],
   "source": [
    "# Calculate std and mean of fitness\n",
    "env_list = ['YPD','SC_37','YPD_H2O2',\"YPE\"]\n",
    "for env in env_list:\n",
    "    df_rep[f'{env}_fitness_std'] = \\\n",
    "        df_rep.filter(regex=(f\"Fitness_from_{env}_replicate_.*\")).std(axis=1)\n",
    "    df_rep[f'{env}_fitness'] = \\\n",
    "        df_rep.filter(regex=(f\"Fitness_from_{env}_replicate_.*\")).mean(axis=1)"
   ]
  },
  {
   "cell_type": "code",
   "execution_count": 6,
   "metadata": {},
   "outputs": [],
   "source": [
    "# Calculate standard error of mean fitness\n",
    "df_rep['YPD_fitness_se'] = df_rep['YPD_fitness_std']/np.sqrt(4)\n",
    "df_rep['SC_37_fitness_se'] = df_rep['SC_37_fitness_std']/np.sqrt(3)\n",
    "df_rep['YPD_H2O2_fitness_se'] = df_rep['YPD_H2O2_fitness_std']/np.sqrt(3)\n",
    "df_rep['YPE_fitness_se'] = df_rep['YPE_fitness_std']/np.sqrt(3)\n",
    "df_rep.loc[df_rep['Gene'] == 'SNF6','YPE_fitness_se'] = \\\n",
    "    df_rep.loc[df_rep['Gene'] == 'SNF6','YPE_fitness_std']/np.sqrt(2)\n"
   ]
  },
  {
   "cell_type": "code",
   "execution_count": 7,
   "metadata": {},
   "outputs": [],
   "source": [
    "non_idx = df_rep['Mutation_type'] == 'Nonsynonymous_mutation'\n",
    "syn_idx = df_rep['Mutation_type'] == 'Synonymous_mutation'"
   ]
  },
  {
   "cell_type": "code",
   "execution_count": null,
   "metadata": {
    "scrolled": false
   },
   "outputs": [],
   "source": [
    "legend_label = {'YPD':'YPD','H2O2':'YPD+$\\mathregular{H_2O_2}$',\n",
    "                'SC':'SC+37°C',\"YPE\":'YPE','Lowest':'Rotating among the above conditions'}\n",
    "fig,ax = plt.subplots(figsize=[6,5], facecolor='white')\n",
    "params = {'mathtext.default': 'regular' }          \n",
    "plt.rcParams.update(params)\n",
    "\n",
    "# Resample fitness from mean fitness and standard error\n",
    "fitness_list_dict = {}\n",
    "fitness_list_dict['YPD'] = nrand.normal(loc = df_rep['YPD_fitness'], \n",
    "                                scale= df_rep['YPD_fitness_se'], \n",
    "                                size=[1000,len(df_rep)])\n",
    "fitness_list_dict['SC'] = nrand.normal(loc = df_rep['SC_37_fitness'], \n",
    "                                scale= df_rep['SC_37_fitness_se'], \n",
    "                                size=[1000,len(df_rep)])\n",
    "fitness_list_dict['H2O2'] = nrand.normal(loc = df_rep['YPD_H2O2_fitness'], \n",
    "                                scale= df_rep['YPD_H2O2_fitness_se'], \n",
    "                                size=[1000,len(df_rep)])\n",
    "fitness_list_dict['YPE'] = nrand.normal(loc = df_rep['YPE_fitness'], \n",
    "                                scale= df_rep['YPE_fitness_se'], \n",
    "                                size=[1000,len(df_rep)])\n",
    "\n",
    "# Calculate lowest fitness across environments\n",
    "fitness_list_dict['Lowest'] = np.min([fitness_list_dict['YPD'],\n",
    "                                      fitness_list_dict['SC'],\n",
    "                                      fitness_list_dict['H2O2'],\n",
    "                                      fitness_list_dict['YPE']],axis=0)\n",
    "\n",
    "# Calculate dN/dS\n",
    "dNdS_dict = {env:[] for env in ['YPD','SC','H2O2',\"YPE\",'Lowest']}\n",
    "for i,env in enumerate(['YPD','SC','H2O2',\"YPE\",'Lowest']):    \n",
    "    dNdS_mean_list = []\n",
    "    dNdS_std_list = []\n",
    "    dNdS_list = []\n",
    "    cutoff_list = np.linspace(0.97,0.99,11)\n",
    "    if_lowest = 0\n",
    "    for cutoff in cutoff_list:\n",
    "        dN_list = np.sum((fitness_list_dict[env] > cutoff) \\\n",
    "                & (df_rep['Mutation_type'] == 'Nonsynonymous_mutation').to_numpy(),axis=1) \\\n",
    "                / np.sum(df_rep['Mutation_type'] == 'Nonsynonymous_mutation')\n",
    "        \n",
    "        dS_list = np.sum((fitness_list_dict[env] > cutoff) \\\n",
    "                & (df_rep['Mutation_type'] == 'Synonymous_mutation').to_numpy(),axis=1) \\\n",
    "                / np.sum(df_rep['Mutation_type'] == 'Synonymous_mutation')\n",
    "        dNdS_list = dN_list/dS_list\n",
    "        dNdS_mean_list.append(dNdS_list.mean())\n",
    "        dNdS_std_list.append(dNdS_list.std())\n",
    "        dNdS_dict[env].append(dNdS_list)\n",
    "        \n",
    "    # Ploting\n",
    "    ax.set_ylim(0.82,1.08)\n",
    "    ax.set_ylabel('Expected $\\mathit{d}_{N}/\\mathit{d}_{S}$',size=13)\n",
    "    ax.set_xlabel('Fitness cutoff',size=13) \n",
    "    ax.errorbar(cutoff_list+((i+1)%5)*0.0001, dNdS_mean_list, yerr=np.array(dNdS_std_list)*1.96, \n",
    "                 label=legend_label[env], capsize=2, fmt='o-',ms=4)\n",
    "    legend = ax.legend(title=\"Environments:\",title_fontsize = 'medium',edgecolor='white')\n",
    "    legend._legend_box.align = \"left\"\n",
    "    legend.get_frame().set_alpha(None)\n",
    "    legend.get_frame().set_facecolor((0, 0, 1, 0))\n",
    "    legend.get_frame().set_linewidth(0)\n",
    "\n",
    "# Add annotation to the plot\n",
    "for i, cutoff in enumerate(cutoff_list):\n",
    "    lowest_flag = True\n",
    "    higher_flag = False\n",
    "    for env in ['YPD','SC','H2O2','YPE']:\n",
    "        pval = (dNdS_dict['Lowest'][i]>dNdS_dict[env][i]).sum()/len(dNdS_dict['Lowest'][i])\n",
    "        if pval>0.95:\n",
    "            higher_flag = True\n",
    "            lowest_flag = False\n",
    "            break\n",
    "        elif pval>0.05:\n",
    "            lowest_flag = False\n",
    "    if lowest_flag:\n",
    "        ax.text(cutoff,0.82,'*',color='k',ha='center')\n",
    "    elif higher_flag:\n",
    "        ax.text(cutoff,0.82,'*',color='r',ha='center')\n",
    "\n",
    "ax.xaxis.set_major_locator(MultipleLocator(0.01))\n",
    "ax.xaxis.set_major_formatter('{x:.2f}')\n",
    "ax.xaxis.set_minor_locator(MultipleLocator(0.002))\n",
    "ax.tick_params(which='major', length=7)\n",
    "ax.tick_params(which='minor', length=4)\n",
    "\n",
    "#plt.savefig('empirical_dNdS.pdf')"
   ]
  }
 ],
 "metadata": {
  "kernelspec": {
   "display_name": "Python 3 (ipykernel)",
   "language": "python",
   "name": "python3"
  },
  "language_info": {
   "codemirror_mode": {
    "name": "ipython",
    "version": 3
   },
   "file_extension": ".py",
   "mimetype": "text/x-python",
   "name": "python",
   "nbconvert_exporter": "python",
   "pygments_lexer": "ipython3",
   "version": "3.8.11"
  }
 },
 "nbformat": 4,
 "nbformat_minor": 2
}
