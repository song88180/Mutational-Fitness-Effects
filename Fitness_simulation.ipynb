{
 "cells": [
  {
   "cell_type": "code",
   "execution_count": 1,
   "id": "fe6d406a",
   "metadata": {},
   "outputs": [],
   "source": [
    "import numpy as np"
   ]
  },
  {
   "cell_type": "code",
   "execution_count": 2,
   "id": "ab9e1b4e",
   "metadata": {},
   "outputs": [],
   "source": [
    "# Three genotype competition\n",
    "def Three_genotypes(G1_N, G2_N, WT_N, \n",
    "                    G1_fecundity, G2_fecundity, WT_fecundity,\n",
    "                    Generation,N):\n",
    "\n",
    "    for i in range(Generation):\n",
    "        G1_N = G1_N*G1_fecundity\n",
    "        G2_N = G2_N*G2_fecundity\n",
    "        WT_N = WT_N*WT_fecundity\n",
    "        if i%7 == 0 and i != 0:\n",
    "            # pass on every 7 generation\n",
    "            Total = G1_N + G2_N + WT_N\n",
    "            G1_N = G1_N / Total * N\n",
    "            G2_N = G2_N / Total * N\n",
    "            WT_N = WT_N / Total * N\n",
    "    \n",
    "    return G1_N,G2_N,WT_N\n"
   ]
  },
  {
   "cell_type": "code",
   "execution_count": 3,
   "id": "01537390",
   "metadata": {},
   "outputs": [],
   "source": [
    "# Pairwise competition\n",
    "def Pairwise(G_N, WT_N, G_fecundity, WT_fecundity, Generation, N):\n",
    "    for i in range(Generation):\n",
    "        G_N = G_N*G_fecundity\n",
    "        WT_N = WT_N*WT_fecundity\n",
    "        if i%7 == 0 and i != 0:   \n",
    "            Total = G_N + WT_N\n",
    "            G_N = G_N / Total * N\n",
    "            WT_N = WT_N / Total * N\n",
    "    return G_N,WT_N"
   ]
  },
  {
   "cell_type": "code",
   "execution_count": 4,
   "id": "8c2b7088",
   "metadata": {},
   "outputs": [
    {
     "name": "stdout",
     "output_type": "stream",
     "text": [
      "In three Genotype competition\n",
      "the relative fitness of G1 to wildtype is 1.005,\n",
      "the relative fitness of G2 to wildtype is 0.995\n",
      "\n",
      "In Pairwise competition\n",
      "the relative fitness of G1 to wildtype is 1.005,\n",
      "the relative fitness of G2 to wildtype is 0.995\n"
     ]
    }
   ],
   "source": [
    "# Three genotype competition\n",
    "\n",
    "# Population size\n",
    "N = 6e5\n",
    "\n",
    "# Set genotype fecondity (number of offspring per generation)\n",
    "WT_fecundity = 2\n",
    "G1_fecundity = 2.01\n",
    "G2_fecundity = 1.99\n",
    "\n",
    "# Set genotype initial frequency. You can change the initial frequency to see if the outcome will change.\n",
    "G1_N_init = 0.2*N \n",
    "G2_N_init = 0.3*N\n",
    "WT_N_init = N - G1_N_init - G2_N_init\n",
    "\n",
    "Generation = 29\n",
    "\n",
    "G1_N,G2_N,WT_N = Three_genotypes(G1_N_init, G2_N_init, WT_N_init, \n",
    "                        G1_fecundity, G2_fecundity, WT_fecundity,\n",
    "                        Generation, N)\n",
    "\n",
    "G1_fit = np.power((G1_N*WT_N_init)/(G1_N_init*WT_N),1/Generation)\n",
    "G2_fit = np.power((G2_N*WT_N_init)/(G2_N_init*WT_N),1/Generation)\n",
    "print(f'In three Genotype competition\\nthe relative fitness of G1 to wildtype is {G1_fit},'+\n",
    "       f'\\nthe relative fitness of G2 to wildtype is {G2_fit}\\n')\n",
    "\n",
    "\n",
    "# Pairwise competition\n",
    "WT_N_init = N - G1_N_init\n",
    "G1_N,WT_N = Pairwise(G1_N_init, WT_N_init, G1_fecundity, WT_fecundity, Generation, N)\n",
    "G1_fit = np.power((G1_N*WT_N_init)/(G1_N_init*WT_N),1/Generation)\n",
    "\n",
    "WT_N_init = N - G2_N_init\n",
    "G2_N,WT_N = Pairwise(G2_N_init, WT_N_init, G2_fecundity, WT_fecundity, Generation, N)\n",
    "G2_fit = np.power((G2_N*WT_N_init)/(G2_N_init*WT_N),1/Generation)\n",
    "\n",
    "print(f'In Pairwise competition\\nthe relative fitness of G1 to wildtype is {G1_fit},'+\n",
    "       f'\\nthe relative fitness of G2 to wildtype is {G2_fit}')"
   ]
  }
 ],
 "metadata": {
  "kernelspec": {
   "display_name": "Python 3 (ipykernel)",
   "language": "python",
   "name": "python3"
  },
  "language_info": {
   "codemirror_mode": {
    "name": "ipython",
    "version": 3
   },
   "file_extension": ".py",
   "mimetype": "text/x-python",
   "name": "python",
   "nbconvert_exporter": "python",
   "pygments_lexer": "ipython3",
   "version": "3.8.11"
  }
 },
 "nbformat": 4,
 "nbformat_minor": 5
}
